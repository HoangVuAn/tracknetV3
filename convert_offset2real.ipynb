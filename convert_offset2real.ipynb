{
 "cells": [
  {
   "cell_type": "code",
   "execution_count": 1,
   "metadata": {},
   "outputs": [],
   "source": [
    "import pandas as pd\n",
    "import cv2\n",
    "import os"
   ]
  },
  {
   "cell_type": "code",
   "execution_count": 26,
   "metadata": {},
   "outputs": [],
   "source": [
    "\n",
    "# Tạo DataFrame từ dữ liệu\n",
    "def convert(video_path, csv):\n",
    "\n",
    "    df = pd.read_csv(csv)\n",
    "    cap = cv2.VideoCapture(video_path)\n",
    "    # Đọc kích thước video\n",
    "    video_width = int(cap.get(cv2.CAP_PROP_FRAME_WIDTH))   # Chiều rộng video\n",
    "    video_height = int(cap.get(cv2.CAP_PROP_FRAME_HEIGHT))  # Chiều cao video\n",
    "\n",
    "    # Chuyển DataFrame thành giá trị phù hợp\n",
    "    # for index, row in df.iterrows():\n",
    "    frame_number = (df['Frame'])  # Số khung\n",
    "    ball_number = (df['Visibility'])    # Số của quả bóng\n",
    "    df['X'] = (df['X'] * video_width)   # Tọa độ x, video_width là chiều rộng của video\n",
    "    df['Y'] = (df['Y'] * video_height)  # Tọa độ y, video_height là chiều cao của video\n",
    "\n",
    "    # print(f\"Frame {frame_number}: Ball {ball_number} at ({df['X']}, {df['Y']})\")\n",
    "    df.to_csv(csv, index=False)\n"
   ]
  },
  {
   "cell_type": "code",
   "execution_count": 24,
   "metadata": {},
   "outputs": [],
   "source": [
    "convert(\"data/GolfBallYTCut/test/16/video/16.mp4\", \"data/GolfBallYTCut/test/16/csv/16copy.csv\")"
   ]
  },
  {
   "cell_type": "code",
   "execution_count": 27,
   "metadata": {},
   "outputs": [],
   "source": [
    "split = [\"train\", \"val\", \"test\"]\n",
    "for spl in split:\n",
    "    for i in os.listdir(f\"data/GolfBallYTCut/{spl}\"):\n",
    "        convert(f\"data/GolfBallYTCut/{spl}/{i}/video/{i}.mp4\", f\"data/GolfBallYTCut/{spl}/{i}/csv/{i}.csv\")\n"
   ]
  },
  {
   "cell_type": "code",
   "execution_count": 22,
   "metadata": {},
   "outputs": [
    {
     "data": {
      "text/plain": [
       "'59'"
      ]
     },
     "execution_count": 22,
     "metadata": {},
     "output_type": "execute_result"
    }
   ],
   "source": [
    "i"
   ]
  },
  {
   "cell_type": "code",
   "execution_count": null,
   "metadata": {},
   "outputs": [],
   "source": []
  }
 ],
 "metadata": {
  "kernelspec": {
   "display_name": "tracknet",
   "language": "python",
   "name": "python3"
  },
  "language_info": {
   "codemirror_mode": {
    "name": "ipython",
    "version": 3
   },
   "file_extension": ".py",
   "mimetype": "text/x-python",
   "name": "python",
   "nbconvert_exporter": "python",
   "pygments_lexer": "ipython3",
   "version": "3.8.19"
  }
 },
 "nbformat": 4,
 "nbformat_minor": 2
}
