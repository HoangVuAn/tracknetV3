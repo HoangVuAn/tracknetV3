{
 "cells": [
  {
   "cell_type": "code",
   "execution_count": 1,
   "metadata": {},
   "outputs": [],
   "source": [
    "import os\n",
    "import shutil"
   ]
  },
  {
   "cell_type": "code",
   "execution_count": 3,
   "metadata": {},
   "outputs": [
    {
     "name": "stdout",
     "output_type": "stream",
     "text": [
      "['13.mp4', '2.mp4', '1.mp4', '21.mp4', '3.mp4', '10.mp4', '15.mp4', '18.mp4', '17.mp4', '9.mp4', '0.mp4', '12.mp4', '5.mp4', '6.mp4', '14.mp4', '4.mp4', '8.mp4', '11.mp4', '7.mp4', '19.mp4', '16.mp4', '20.mp4']\n",
      "22\n"
     ]
    }
   ],
   "source": [
    "file_names = []\n",
    "for file_name in os.listdir(\"data/FootBallYT2/CollectYT_Ball_2\"):\n",
    "    file_names.append(file_name)\n",
    "\n",
    "print(file_names)\n",
    "print(len(file_names))"
   ]
  },
  {
   "cell_type": "code",
   "execution_count": 4,
   "metadata": {},
   "outputs": [],
   "source": [
    "file_names_train = file_names[0:19]\n",
    "file_names_val = file_names[19:20]\n",
    "file_names_test = file_names[20:]\n"
   ]
  },
  {
   "cell_type": "code",
   "execution_count": 5,
   "metadata": {},
   "outputs": [
    {
     "data": {
      "text/plain": [
       "(19, 1, 2)"
      ]
     },
     "execution_count": 5,
     "metadata": {},
     "output_type": "execute_result"
    }
   ],
   "source": [
    "len(file_names_train), len(file_names_val), len(file_names_test)"
   ]
  },
  {
   "cell_type": "code",
   "execution_count": 6,
   "metadata": {},
   "outputs": [
    {
     "name": "stdout",
     "output_type": "stream",
     "text": [
      "Create data/FootBallYT2/train/13\n",
      "Create data/FootBallYT2/train/13/csv\n",
      "Create data/FootBallYT2/train/13/frame\n",
      "Create data/FootBallYT2/train/13/video\n",
      "Create data/FootBallYT2/train/2\n",
      "Create data/FootBallYT2/train/2/csv\n",
      "Create data/FootBallYT2/train/2/frame\n",
      "Create data/FootBallYT2/train/2/video\n",
      "Create data/FootBallYT2/train/1\n",
      "Create data/FootBallYT2/train/1/csv\n",
      "Create data/FootBallYT2/train/1/frame\n",
      "Create data/FootBallYT2/train/1/video\n",
      "Create data/FootBallYT2/train/21\n",
      "Create data/FootBallYT2/train/21/csv\n",
      "Create data/FootBallYT2/train/21/frame\n",
      "Create data/FootBallYT2/train/21/video\n",
      "Create data/FootBallYT2/train/3\n",
      "Create data/FootBallYT2/train/3/csv\n",
      "Create data/FootBallYT2/train/3/frame\n",
      "Create data/FootBallYT2/train/3/video\n",
      "Create data/FootBallYT2/train/10\n",
      "Create data/FootBallYT2/train/10/csv\n",
      "Create data/FootBallYT2/train/10/frame\n",
      "Create data/FootBallYT2/train/10/video\n",
      "Create data/FootBallYT2/train/15\n",
      "Create data/FootBallYT2/train/15/csv\n",
      "Create data/FootBallYT2/train/15/frame\n",
      "Create data/FootBallYT2/train/15/video\n",
      "Create data/FootBallYT2/train/18\n",
      "Create data/FootBallYT2/train/18/csv\n",
      "Create data/FootBallYT2/train/18/frame\n",
      "Create data/FootBallYT2/train/18/video\n",
      "Create data/FootBallYT2/train/17\n",
      "Create data/FootBallYT2/train/17/csv\n",
      "Create data/FootBallYT2/train/17/frame\n",
      "Create data/FootBallYT2/train/17/video\n",
      "Create data/FootBallYT2/train/9\n",
      "Create data/FootBallYT2/train/9/csv\n",
      "Create data/FootBallYT2/train/9/frame\n",
      "Create data/FootBallYT2/train/9/video\n",
      "Create data/FootBallYT2/train/0\n",
      "Create data/FootBallYT2/train/0/csv\n",
      "Create data/FootBallYT2/train/0/frame\n",
      "Create data/FootBallYT2/train/0/video\n",
      "Create data/FootBallYT2/train/12\n",
      "Create data/FootBallYT2/train/12/csv\n",
      "Create data/FootBallYT2/train/12/frame\n",
      "Create data/FootBallYT2/train/12/video\n",
      "Create data/FootBallYT2/train/5\n",
      "Create data/FootBallYT2/train/5/csv\n",
      "Create data/FootBallYT2/train/5/frame\n",
      "Create data/FootBallYT2/train/5/video\n",
      "Create data/FootBallYT2/train/6\n",
      "Create data/FootBallYT2/train/6/csv\n",
      "Create data/FootBallYT2/train/6/frame\n",
      "Create data/FootBallYT2/train/6/video\n",
      "Create data/FootBallYT2/train/14\n",
      "Create data/FootBallYT2/train/14/csv\n",
      "Create data/FootBallYT2/train/14/frame\n",
      "Create data/FootBallYT2/train/14/video\n",
      "Create data/FootBallYT2/train/4\n",
      "Create data/FootBallYT2/train/4/csv\n",
      "Create data/FootBallYT2/train/4/frame\n",
      "Create data/FootBallYT2/train/4/video\n",
      "Create data/FootBallYT2/train/8\n",
      "Create data/FootBallYT2/train/8/csv\n",
      "Create data/FootBallYT2/train/8/frame\n",
      "Create data/FootBallYT2/train/8/video\n",
      "Create data/FootBallYT2/train/11\n",
      "Create data/FootBallYT2/train/11/csv\n",
      "Create data/FootBallYT2/train/11/frame\n",
      "Create data/FootBallYT2/train/11/video\n",
      "Create data/FootBallYT2/train/7\n",
      "Create data/FootBallYT2/train/7/csv\n",
      "Create data/FootBallYT2/train/7/frame\n",
      "Create data/FootBallYT2/train/7/video\n"
     ]
    }
   ],
   "source": [
    "ROOT_PATH = \"data/FootBallYT2/train\"\n",
    "temp = [\"csv\", \"frame\", \"video\"]\n",
    "for file_name in file_names_train:\n",
    "    file_path = os.path.join(ROOT_PATH, file_name.split(\".\")[0])\n",
    "    if not os.path.exists(file_path):\n",
    "        os.mkdir(file_path)\n",
    "        print(f\"Create {file_path}\")\n",
    "    for t in temp:\n",
    "        file_path1 = os.path.join(file_path, t)\n",
    "        if not os.path.exists(file_path1):\n",
    "            os.mkdir(file_path1)\n",
    "            print(f\"Create {file_path1}\")"
   ]
  },
  {
   "cell_type": "code",
   "execution_count": 8,
   "metadata": {},
   "outputs": [
    {
     "name": "stdout",
     "output_type": "stream",
     "text": [
      "Create data/FootBallYT2/val/19\n",
      "Create data/FootBallYT2/val/19/csv\n",
      "Create data/FootBallYT2/val/19/frame\n",
      "Create data/FootBallYT2/val/19/video\n"
     ]
    }
   ],
   "source": [
    "ROOT_PATH = \"data/FootBallYT2/val\"\n",
    "temp = [\"csv\", \"frame\", \"video\"]\n",
    "for file_name in file_names_val:\n",
    "    file_path = os.path.join(ROOT_PATH, file_name.split(\".\")[0])\n",
    "    if not os.path.exists(file_path):\n",
    "        os.mkdir(file_path)\n",
    "        print(f\"Create {file_path}\")\n",
    "    for t in temp:\n",
    "        file_path1 = os.path.join(file_path, t)\n",
    "        if not os.path.exists(file_path1):\n",
    "            os.mkdir(file_path1)\n",
    "            print(f\"Create {file_path1}\")"
   ]
  },
  {
   "cell_type": "code",
   "execution_count": 7,
   "metadata": {},
   "outputs": [
    {
     "name": "stdout",
     "output_type": "stream",
     "text": [
      "Create data/FootBallYT2/test/16\n",
      "Create data/FootBallYT2/test/16/csv\n",
      "Create data/FootBallYT2/test/16/frame\n",
      "Create data/FootBallYT2/test/16/video\n",
      "Create data/FootBallYT2/test/20\n",
      "Create data/FootBallYT2/test/20/csv\n",
      "Create data/FootBallYT2/test/20/frame\n",
      "Create data/FootBallYT2/test/20/video\n"
     ]
    }
   ],
   "source": [
    "ROOT_PATH = \"data/FootBallYT2/test\"\n",
    "temp = [\"csv\", \"frame\", \"video\"]\n",
    "for file_name in file_names_test:\n",
    "    file_path = os.path.join(ROOT_PATH, file_name.split(\".\")[0])\n",
    "    if not os.path.exists(file_path):\n",
    "        os.mkdir(file_path)\n",
    "        print(f\"Create {file_path}\")\n",
    "    for t in temp:\n",
    "        file_path1 = os.path.join(file_path, t)\n",
    "        if not os.path.exists(file_path1):\n",
    "            os.mkdir(file_path1)\n",
    "            print(f\"Create {file_path1}\")"
   ]
  },
  {
   "cell_type": "code",
   "execution_count": 10,
   "metadata": {},
   "outputs": [],
   "source": [
    "ROOT_PATH = \"data/FootBallYT2\""
   ]
  },
  {
   "cell_type": "code",
   "execution_count": 11,
   "metadata": {},
   "outputs": [
    {
     "ename": "FileNotFoundError",
     "evalue": "[Errno 2] No such file or directory: 'data/FootBallYT2/video'",
     "output_type": "error",
     "traceback": [
      "\u001b[0;31m---------------------------------------------------------------------------\u001b[0m",
      "\u001b[0;31mFileNotFoundError\u001b[0m                         Traceback (most recent call last)",
      "Input \u001b[0;32mIn [11]\u001b[0m, in \u001b[0;36m<cell line: 1>\u001b[0;34m()\u001b[0m\n\u001b[0;32m----> 1\u001b[0m \u001b[38;5;28;01mfor\u001b[39;00m video_name \u001b[38;5;129;01min\u001b[39;00m \u001b[43mos\u001b[49m\u001b[38;5;241;43m.\u001b[39;49m\u001b[43mlistdir\u001b[49m\u001b[43m(\u001b[49m\u001b[43mos\u001b[49m\u001b[38;5;241;43m.\u001b[39;49m\u001b[43mpath\u001b[49m\u001b[38;5;241;43m.\u001b[39;49m\u001b[43mjoin\u001b[49m\u001b[43m(\u001b[49m\u001b[43mROOT_PATH\u001b[49m\u001b[43m,\u001b[49m\u001b[43m \u001b[49m\u001b[38;5;124;43m\"\u001b[39;49m\u001b[38;5;124;43mvideo\u001b[39;49m\u001b[38;5;124;43m\"\u001b[39;49m\u001b[43m)\u001b[49m\u001b[43m)\u001b[49m:\n\u001b[1;32m      2\u001b[0m     \u001b[38;5;28mprint\u001b[39m(video_name)\n",
      "\u001b[0;31mFileNotFoundError\u001b[0m: [Errno 2] No such file or directory: 'data/FootBallYT2/video'"
     ]
    }
   ],
   "source": [
    "for video_name in os.listdir(os.path.join(ROOT_PATH, \"video\")):\n",
    "    print(video_name)"
   ]
  },
  {
   "cell_type": "code",
   "execution_count": 20,
   "metadata": {},
   "outputs": [],
   "source": [
    "for folder_video in os.listdir(os.path.join(ROOT_PATH, \"test\")):\n",
    "    src = os.path.join(ROOT_PATH, \"video\", f\"{folder_video}.mp4\")\n",
    "    des = os.path.join(ROOT_PATH, \"test\", folder_video, \"video\", f\"{folder_video}.mp4\")\n",
    "    shutil.copy(src, des)\n",
    "\n",
    "    src = os.path.join(ROOT_PATH, \"csv\", f\"{folder_video}.csv\")\n",
    "    des = os.path.join(ROOT_PATH, \"test\", folder_video, \"csv\", f\"{folder_video}.csv\")\n",
    "    shutil.copy(src, des)"
   ]
  },
  {
   "cell_type": "code",
   "execution_count": 21,
   "metadata": {},
   "outputs": [],
   "source": [
    "for folder_video in os.listdir(os.path.join(ROOT_PATH, \"train\")):\n",
    "    src = os.path.join(ROOT_PATH, \"video\", f\"{folder_video}.mp4\")\n",
    "    des = os.path.join(ROOT_PATH, \"train\", folder_video, \"video\", f\"{folder_video}.mp4\")\n",
    "    shutil.copy(src, des)\n",
    "\n",
    "    src = os.path.join(ROOT_PATH, \"csv\", f\"{folder_video}.csv\")\n",
    "    des = os.path.join(ROOT_PATH, \"train\", folder_video, \"csv\", f\"{folder_video}.csv\")\n",
    "    shutil.copy(src, des)"
   ]
  },
  {
   "cell_type": "code",
   "execution_count": 22,
   "metadata": {},
   "outputs": [],
   "source": [
    "for folder_video in os.listdir(os.path.join(ROOT_PATH, \"val\")):\n",
    "    src = os.path.join(ROOT_PATH, \"video\", f\"{folder_video}.mp4\")\n",
    "    des = os.path.join(ROOT_PATH, \"val\", folder_video, \"video\", f\"{folder_video}.mp4\")\n",
    "    shutil.copy(src, des)\n",
    "\n",
    "    src = os.path.join(ROOT_PATH, \"csv\", f\"{folder_video}.csv\")\n",
    "    des = os.path.join(ROOT_PATH, \"val\", folder_video, \"csv\", f\"{folder_video}.csv\")\n",
    "    shutil.copy(src, des)"
   ]
  },
  {
   "cell_type": "code",
   "execution_count": null,
   "metadata": {},
   "outputs": [],
   "source": []
  },
  {
   "cell_type": "code",
   "execution_count": null,
   "metadata": {},
   "outputs": [],
   "source": []
  },
  {
   "cell_type": "code",
   "execution_count": 2,
   "metadata": {},
   "outputs": [],
   "source": [
    "split = [\"train\", \"val\", \"test\"]\n",
    "for spl in split:\n",
    "    for i in os.listdir(f\"data/GolfBallYTCut/{spl}\"):\n",
    "        shutil.rmtree(f\"data/GolfBallYTCut/{spl}/{i}/frame/{i}\")"
   ]
  },
  {
   "cell_type": "code",
   "execution_count": 3,
   "metadata": {},
   "outputs": [],
   "source": [
    "split = [\"train\", \"val\", \"test\"]\n",
    "for spl in split:\n",
    "    for i in os.listdir(f\"data/GolfBallYTCut/{spl}\"):\n",
    "        os.remove(f\"data/GolfBallYTCut/{spl}/{i}/median.npz\")"
   ]
  },
  {
   "cell_type": "code",
   "execution_count": null,
   "metadata": {},
   "outputs": [],
   "source": []
  }
 ],
 "metadata": {
  "kernelspec": {
   "display_name": "tracknet",
   "language": "python",
   "name": "python3"
  },
  "language_info": {
   "codemirror_mode": {
    "name": "ipython",
    "version": 3
   },
   "file_extension": ".py",
   "mimetype": "text/x-python",
   "name": "python",
   "nbconvert_exporter": "python",
   "pygments_lexer": "ipython3",
   "version": "3.8.19"
  }
 },
 "nbformat": 4,
 "nbformat_minor": 2
}
